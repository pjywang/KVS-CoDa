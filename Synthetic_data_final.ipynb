{
 "cells": [
  {
   "attachments": {},
   "cell_type": "markdown",
   "id": "74418159",
   "metadata": {},
   "source": [
    "Install tensorflow ver 2.x before running this"
   ]
  },
  {
   "cell_type": "code",
   "execution_count": null,
   "id": "dc68a948",
   "metadata": {
    "scrolled": true
   },
   "outputs": [],
   "source": [
    "import tensorflow as tf\n",
    "print(tf.__version__)\n",
    "from tensorflow.python.client import device_lib\n",
    "\n",
    "print(device_lib.list_local_devices())"
   ]
  },
  {
   "cell_type": "code",
   "execution_count": 1,
   "id": "04f6468e",
   "metadata": {},
   "outputs": [],
   "source": [
    "import numpy as np\n",
    "import pandas as pd\n",
    "import ccm_coda\n",
    "\n",
    "# Sampling functions, etc.\n",
    "from tools import *\n",
    "\n",
    "import pickle, time\n",
    "import warnings\n",
    "warnings.filterwarnings('ignore')"
   ]
  },
  {
   "attachments": {},
   "cell_type": "markdown",
   "id": "2261ce8d",
   "metadata": {},
   "source": [
    "# Experiment with fixed n, p, and effect size\n",
    "$n=200,\\ p=100,\\ e = \\log{5}$. Only the generating seed changes through the experiments"
   ]
  },
  {
   "cell_type": "code",
   "execution_count": 5,
   "id": "ce332b9e",
   "metadata": {},
   "outputs": [
    {
     "data": {
      "text/plain": [
       "(0.4999739841269841, 0.03314152862722943)"
      ]
     },
     "execution_count": 5,
     "metadata": {},
     "output_type": "execute_result"
    }
   ],
   "source": [
    "n = 200\n",
    "dim = 100\n",
    "diff_ratio = 0.1  # 10 taxa incorporate true signals\n",
    "b = np.log(5)\n",
    "\n",
    "# Zero ratio\n",
    "zero_ratios = np.zeros(50)\n",
    "for i in range(50):\n",
    "    X, diff = Sampling(n, dim, diff_ratio=diff_ratio, b=b, seed=7*i)\n",
    "    zero_ratios[i] = np.sum(np.sum(X==0)) / X.size\n",
    "np.mean(zero_ratios), np.std(zero_ratios)"
   ]
  },
  {
   "attachments": {},
   "cell_type": "markdown",
   "id": "b91eadeb",
   "metadata": {},
   "source": [
    "$\\epsilon = 10^{-3}$ is proposed for binary responses.  \n",
    "Learning rates were manually chosen to achieve convergence of gradient descent"
   ]
  },
  {
   "cell_type": "code",
   "execution_count": null,
   "id": "6d1e20d1",
   "metadata": {
    "scrolled": true
   },
   "outputs": [],
   "source": [
    "epsilon = 1e-3\n",
    "type_Y = 'binary'\n",
    "iterations = 2000\n",
    "\n",
    "# label representing the existence of the signal\n",
    "Y = np.r_[(-1) * np.ones(n // 2), np.ones(n // 2)]  \n",
    "\n",
    "num_true_pos = list()\n",
    "for i in range(50):\n",
    "    seed = 7 * i\n",
    "    true_pos_per_numfeat = list()\n",
    "\n",
    "    X, diff = Sampling(n, dim, diff_ratio=diff_ratio, b=b, seed=seed)\n",
    "    true = np.sort(diff)\n",
    "    \n",
    "    # Make X compositional\n",
    "    X = X / np.sum(X, axis=1)[:, None]\n",
    "\n",
    "    for num_features in range(5, round(dim * 0.41), 5):\n",
    "        print(\"{}th iteration, selecting {} variables\".format(i, num_features))\n",
    "        # learning rate is chosen to achieve convergence\n",
    "        lr = epsilon * 0.03 * num_features\n",
    "        rank, w = ccm_coda.ccm(X, Y, num_features, type_Y, epsilon, learning_rate=lr, \n",
    "                               iterations=iterations, init=None, verbose=False)\n",
    "        selected_feats = np.array(X.columns[np.sort(np.argsort(rank)[:num_features])])\n",
    "        print(\"Weights on the selected features:\", w[np.sort(np.argsort(rank)[:num_features])])\n",
    "        true_pos = summary_of_discovery(selected_feats, true)\n",
    "        true_pos_per_numfeat.append(true_pos)\n",
    "    num_true_pos.append(true_pos_per_numfeat)\n",
    "    \n",
    "    with open(\"./results/Synthetic_final/200_100_log5_eps_1e-3.pickle\", 'wb') as f:\n",
    "        pickle.dump(num_true_pos, f)"
   ]
  },
  {
   "cell_type": "code",
   "execution_count": 6,
   "id": "64f1ece9",
   "metadata": {},
   "outputs": [
    {
     "name": "stdout",
     "output_type": "stream",
     "text": [
      "[4.22 7.06 8.2  8.68 8.98 9.32 9.4  9.44]\n",
      "[0.1882339  0.22522877 0.22627417 0.17762883 0.22713872 0.2217025\n",
      " 0.22090722 0.22119675]\n"
     ]
    }
   ],
   "source": [
    "with open(\"./results/Synthetic_final/200_100_log5_eps_1e-3.pickle\", 'rb') as fi:\n",
    "    res = pickle.load(fi)\n",
    "print(np.array(res).mean(0))\n",
    "print(np.array(res).std(0) / np.sqrt(50))"
   ]
  },
  {
   "cell_type": "code",
   "execution_count": null,
   "id": "0c3cac53",
   "metadata": {},
   "outputs": [],
   "source": []
  },
  {
   "attachments": {},
   "cell_type": "markdown",
   "id": "d2bfb435",
   "metadata": {},
   "source": [
    "## (Optional) Applying just Euclidean method\n",
    "Check also for Euclidean method for comparison; $\\epsilon = 10^{-3}$ is used as proposed in Chen et al. (2017).  \n",
    "Source code: ccm.py of https://github.com/Jianbo-Lab/CCM"
   ]
  },
  {
   "cell_type": "code",
   "execution_count": null,
   "id": "23325c48",
   "metadata": {
    "scrolled": true
   },
   "outputs": [],
   "source": [
    "# Using Euclidean method\n",
    "import ccm \n",
    "\n",
    "epsilon = 1e-3\n",
    "Y = np.r_[(-1) * np.ones(n // 2), np.ones(n // 2)] \n",
    "type_Y = 'binary'\n",
    "iterations = 2000\n",
    "\n",
    "num_true_pos = list()\n",
    "\n",
    "for i in range(50):\n",
    "    seed = 7 * i\n",
    "    true_pos_per_numfeat = list()\n",
    "\n",
    "    X, diff = Sampling(n, dim, diff_ratio=diff_ratio, b=b, seed=seed)\n",
    "    true = np.sort(diff)\n",
    "    X = X / np.sum(X, axis=1)[:, None]\n",
    "\n",
    "    for num_features in range(5, round(dim * 0.41), 5):\n",
    "        print(\"{}th iteration, selecting {} variables\".format(i, num_features))\n",
    "        lr = epsilon * 0.02 * num_features\n",
    "        rank, w = ccm.ccm(X, Y, num_features, type_Y, epsilon, learning_rate=lr, \n",
    "                          iterations=iterations, verbose=False)\n",
    "        selected_feats = np.array(X.columns[np.sort(np.argsort(rank)[:num_features])])\n",
    "        print(\"Weights on the selected features:\", w[np.sort(np.argsort(rank)[:num_features])])\n",
    "        true_pos = summary_of_discovery(selected_feats, true)\n",
    "        true_pos_per_numfeat.append(true_pos)\n",
    "    num_true_pos.append(true_pos_per_numfeat)\n",
    "    \n",
    "    with open(\"./results/Synthetic_final/num_true_pos_200_100_log5_eucd_efixed_1e-3.pickle\", 'wb') as f:\n",
    "        pickle.dump(num_true_pos, f)"
   ]
  },
  {
   "cell_type": "code",
   "execution_count": 10,
   "id": "f94f442b",
   "metadata": {},
   "outputs": [
    {
     "name": "stdout",
     "output_type": "stream",
     "text": [
      "[4.08 5.28 6.2  7.16 7.78 8.42 8.94 9.4 ]\n"
     ]
    }
   ],
   "source": [
    "with open(\"./results/Synthetic_final/num_true_pos_200_100_log5_eucd_efixed_1e-3.pickle\", 'rb') as fi:\n",
    "    load_efix3 = pickle.load(fi)\n",
    "print(np.array(load_efix3).mean(0))"
   ]
  },
  {
   "attachments": {},
   "cell_type": "markdown",
   "id": "cd2b06df",
   "metadata": {},
   "source": [
    "Inferior result than compositional algorithm (somehow comparable when m is large enough than the true value 10, but this is natural)"
   ]
  },
  {
   "cell_type": "code",
   "execution_count": null,
   "id": "dfe6cdd3",
   "metadata": {},
   "outputs": [],
   "source": []
  },
  {
   "attachments": {},
   "cell_type": "markdown",
   "id": "a024f63d",
   "metadata": {},
   "source": [
    "## Plot the results"
   ]
  },
  {
   "cell_type": "code",
   "execution_count": 2,
   "id": "1744103c",
   "metadata": {},
   "outputs": [],
   "source": [
    "import pyreadr\n",
    "import matplotlib.pyplot as plt"
   ]
  },
  {
   "cell_type": "code",
   "execution_count": 5,
   "id": "c4ea0961",
   "metadata": {},
   "outputs": [],
   "source": [
    "with open(\"./results/Synthetic_final/200_100_log5_eps_1e-3.pickle\", 'rb') as fi:\n",
    "    proposed = np.array(pickle.load(fi))\n",
    "    \n",
    "coda_lasso = pyreadr.read_r(\"./LassoSelbal/results/Synthetic_data/Truepos_lasso_0.5rep.RData\")\n",
    "selbal = pyreadr.read_r(\"./LassoSelbal/results/Synthetic_data/Truepos_selbal_0.5rep.RData\")\n",
    "\n",
    "coda_lasso = np.array(coda_lasso['num_true_pos'])\n",
    "selbal = np.array(selbal['truepos_selbal'])"
   ]
  },
  {
   "cell_type": "code",
   "execution_count": 6,
   "id": "be9a1aaa",
   "metadata": {},
   "outputs": [
    {
     "data": {
      "image/png": "[encoded data removed]",
      "text/plain": [
       "<Figure size 750x562.5 with 1 Axes>"
      ]
     },
     "metadata": {},
     "output_type": "display_data"
    }
   ],
   "source": [
    "plt.figure(figsize=(5, 3.75), dpi=150)\n",
    "\n",
    "plt.hlines(10, 10, 40.5, colors=\"midnightblue\", linestyles=\"--\", linewidths=2)\n",
    "plt.plot([5, 10], [5, 10], color=\"midnightblue\", linestyle=\"--\", linewidth=2)\n",
    "\n",
    "plt.errorbar([5 * i for i in range(1, 9)], proposed.mean(0), \n",
    "             yerr=proposed.std(0)/np.sqrt(50), capsize=5,\n",
    "             c='darkslategrey', label=\"Proposed\")\n",
    "plt.errorbar([5 * i for i in range(1, 9)], coda_lasso.mean(0), \n",
    "             yerr=coda_lasso.std(0)/np.sqrt(50), capsize=5,\n",
    "             c='saddlebrown', label=\"Coda-lasso\")\n",
    "plt.errorbar([5 * i for i in range(1, 9)], selbal.mean(0), \n",
    "             yerr=selbal.std(0)/np.sqrt(50), capsize=5,\n",
    "             c='tab:purple', label=\"Selbal\")\n",
    "\n",
    "plt.xticks([5 * i for i in range(1, 9)])\n",
    "plt.xlim(4, 41)\n",
    "plt.ylim(0, 10.5)\n",
    "\n",
    "plt.xlabel('m')\n",
    "plt.ylabel('True positives')\n",
    "\n",
    "plt.legend()\n",
    "\n",
    "plt.savefig('./results/Synthetic_mvary_final', dpi=300)\n",
    "plt.show()"
   ]
  },
  {
   "cell_type": "code",
   "execution_count": null,
   "id": "833d9648",
   "metadata": {},
   "outputs": [],
   "source": []
  },
  {
   "attachments": {},
   "cell_type": "markdown",
   "id": "4763be2d",
   "metadata": {},
   "source": [
    "#  Experiment with varying sample size $n$\n",
    "\n",
    "$n = 200, 400, ..., 1000$"
   ]
  },
  {
   "cell_type": "code",
   "execution_count": 25,
   "id": "311f6ba2",
   "metadata": {},
   "outputs": [],
   "source": [
    "num_features = 10\n",
    "dim = 100\n",
    "diff_ratio = 0.1  # 10 taxa incorporates true signals\n",
    "b = np.log(5)\n",
    "\n",
    "type_Y = 'binary'\n",
    "epsilon = 0.001\n",
    "iterations = 3000\n",
    "\n",
    "lr = 0.0003"
   ]
  },
  {
   "cell_type": "code",
   "execution_count": null,
   "id": "eccc288b",
   "metadata": {},
   "outputs": [],
   "source": [
    "repetition = list()\n",
    "for i in range(50):\n",
    "    print(i, 'th iteration')\n",
    "    num_true_pos = list()\n",
    "    st = time.time()\n",
    "    for n in [200, 400, 600, 800, 1000]:\n",
    "        print(\"n =\", n)\n",
    "        Y = np.r_[(-1) * np.ones(n // 2), np.ones(n // 2)]\n",
    "        X, diff = Sampling(n, dim, diff_ratio=diff_ratio, b=b, seed=7 * i)\n",
    "        true = np.sort(diff)\n",
    "\n",
    "        X = X / np.sum(X, axis=1)[:, None]\n",
    "        rank, w = ccm_coda.ccm(X, Y, num_features, type_Y, epsilon, learning_rate=lr, \n",
    "                                   iterations=iterations, init=None, verbose=False)\n",
    "        selected_feats = np.array(X.columns[np.sort(np.argsort(rank)[:num_features])])\n",
    "        print(\"Weights on the selected features:\", w[np.sort(np.argsort(rank)[:num_features])])\n",
    "        true_pos = summary_of_discovery(selected_feats, true)\n",
    "        num_true_pos.append(true_pos)\n",
    "    repetition.append(num_true_pos)\n",
    "    print(time.time() - st, \"sec per one experiment\")\n",
    "\n",
    "    with open(\"./results/Synthetic_final/varying_n.pickle\", 'wb') as f:\n",
    "        pickle.dump(repetition, f)\n",
    "\n",
    "np.mean(repetition, 0), np.std(repetition, 0)"
   ]
  },
  {
   "cell_type": "code",
   "execution_count": 29,
   "id": "a11b04c7",
   "metadata": {},
   "outputs": [
    {
     "data": {
      "text/plain": [
       "(array([7.06, 8.34, 9.12, 9.5 , 9.5 ]),\n",
       " array([0.22522877, 0.26923596, 0.18469434, 0.11045361, 0.08124038]),\n",
       " (50, 5))"
      ]
     },
     "execution_count": 29,
     "metadata": {},
     "output_type": "execute_result"
    }
   ],
   "source": [
    "with open(\"./results/Synthetic_final/varying_n.pickle\", 'rb') as fi:\n",
    "    repetition2 = pickle.load(fi)\n",
    "np.mean(repetition2, 0), np.std(repetition2, 0)/np.sqrt(50), np.array(repetition2).shape"
   ]
  },
  {
   "cell_type": "code",
   "execution_count": null,
   "id": "668fcbbf",
   "metadata": {},
   "outputs": [],
   "source": []
  },
  {
   "attachments": {},
   "cell_type": "markdown",
   "id": "d9b999fa",
   "metadata": {},
   "source": [
    "### Plot the results"
   ]
  },
  {
   "cell_type": "code",
   "execution_count": 7,
   "id": "be7ffc08",
   "metadata": {},
   "outputs": [],
   "source": [
    "with open(\"./results/Synthetic_final/varying_n.pickle\", 'rb') as fi:\n",
    "    repetition = pickle.load(fi)\n",
    "    \n",
    "coda_lasso = pyreadr.read_r(\"./LassoSelbal/results/Synthetic_data/Truepos_nvary_lasso_0.5rep.RData\")\n",
    "selbal = pyreadr.read_r(\"./LassoSelbal/results/Synthetic_data/Truepos_nvary_selbal_0.5rep.RData\")\n",
    "\n",
    "coda_lasso = np.array(coda_lasso['num_true_pos'])\n",
    "selbal = np.array(selbal['truepos_selbal_nvary'])\n",
    "\n",
    "repetition = np.array(repetition)"
   ]
  },
  {
   "cell_type": "code",
   "execution_count": 9,
   "id": "f1db850f",
   "metadata": {},
   "outputs": [
    {
     "data": {
      "image/png": "[encoded data removed]",
      "text/plain": [
       "<Figure size 750x562.5 with 1 Axes>"
      ]
     },
     "metadata": {},
     "output_type": "display_data"
    }
   ],
   "source": [
    "plt.figure(figsize=(5, 3.75), dpi=150)\n",
    "\n",
    "plt.hlines(10, 50, 1050, colors=\"midnightblue\", linestyles=\"--\", linewidths=2)\n",
    "plt.errorbar([200 * i for i in range(1, 6)], repetition.mean(0), \n",
    "             yerr=repetition.std(0)/np.sqrt(50), capsize=5,\n",
    "             c='darkslategrey', label=\"Proposed\")\n",
    "plt.errorbar([200 * i for i in range(1, 6)], coda_lasso.mean(0), \n",
    "             yerr=coda_lasso.std(0)/np.sqrt(50), capsize=5,\n",
    "             c='saddlebrown', label=\"Coda-lasso\")\n",
    "plt.errorbar([200 * i for i in range(1, 6)], selbal.mean(0), \n",
    "             yerr=selbal.std(0)/np.sqrt(50), capsize=5,\n",
    "             c='tab:purple', label=\"Selbal\")\n",
    "\n",
    "plt.xticks([200 * i for i in range(1, 6)])\n",
    "plt.xlim(150, 1050)\n",
    "plt.ylim(0, 10.5)\n",
    "\n",
    "plt.xlabel('n')\n",
    "plt.ylabel('True positives')\n",
    "\n",
    "plt.legend()\n",
    "\n",
    "plt.savefig('./results/Synthetic_nvary_final')\n",
    "plt.show()"
   ]
  },
  {
   "cell_type": "code",
   "execution_count": null,
   "id": "127f885f",
   "metadata": {},
   "outputs": [],
   "source": []
  },
  {
   "attachments": {},
   "cell_type": "markdown",
   "id": "397688a0",
   "metadata": {},
   "source": [
    "# With different zero ratio\n",
    "Obtain this by adjusting mean_a and mean_t\n",
    "- 70%: (a, t) = (-1.1 , -0.5)\n",
    "- 50%: ours, (0,0)\n",
    "- 30%: (1, 0.5)\n",
    "- 10%: (2.2, 1.5)"
   ]
  },
  {
   "cell_type": "code",
   "execution_count": 5,
   "id": "4a5fdff3",
   "metadata": {},
   "outputs": [],
   "source": [
    "zero_ratio = {10: {\"mean_a\":2.2, \"mean_t\": 1.5},\n",
    "                30: {\"mean_a\":1., \"mean_t\": 0.5},\n",
    "                50: {\"mean_a\":0., \"mean_t\": 0.},\n",
    "                70: {\"mean_a\":-1.1, \"mean_t\": -0.5}\n",
    "                }\n",
    "\n",
    "n = 500\n",
    "dim = 100\n",
    "diff_ratio = 0.1\n",
    "b = np.log(5)"
   ]
  },
  {
   "cell_type": "code",
   "execution_count": 17,
   "id": "4bed39cb",
   "metadata": {},
   "outputs": [
    {
     "name": "stdout",
     "output_type": "stream",
     "text": [
      "n = 200, aims 10%: 0.10095699999999999 0.016095238457382356\n",
      "n = 200, aims 30%: 0.30264804040404036 0.029268170138622276\n",
      "n = 200, aims 50%: 0.4999739841269841 0.03314152862722943\n",
      "n = 200, aims 70%: 0.7021890988708046 0.030347706909419108\n",
      "n = 400, aims 10%: 0.09868199999999999 0.013394736876848308\n",
      "n = 400, aims 30%: 0.301464 0.025230930006640655\n",
      "n = 400, aims 50%: 0.5014096559472274 0.029623154792838845\n",
      "n = 400, aims 70%: 0.710164289544018 0.026975890951143396\n",
      "n = 600, aims 10%: 0.09954166666666668 0.015893145010769057\n",
      "n = 600, aims 30%: 0.30302599999999996 0.02949606963647869\n",
      "n = 600, aims 50%: 0.5031504781144781 0.033638455511561825\n",
      "n = 600, aims 70%: 0.7098719006434615 0.030439311882720692\n"
     ]
    }
   ],
   "source": [
    "# Check zero ratios\n",
    "for n in [200, 400, 600]:\n",
    "    for ratio in [10, 30, 50, 70]:\n",
    "        zero_ratios = np.zeros(50)\n",
    "        for i in range(50):\n",
    "            X, diff = Sampling(n, dim, diff_ratio=diff_ratio, b=b, seed=7*i, **zero_ratio[ratio])\n",
    "            zero_ratios[i] = np.sum(np.sum(X==0)) / X.size\n",
    "            if not np.isin(diff, X.columns).all():\n",
    "                print(i)\n",
    "        print(\"n = {}, aims {}%:\".format(n, ratio), np.mean(zero_ratios), np.std(zero_ratios))"
   ]
  },
  {
   "attachments": {},
   "cell_type": "markdown",
   "id": "bf80012f",
   "metadata": {},
   "source": [
    "Fix n = 500, p = 10, and m = 10"
   ]
  },
  {
   "cell_type": "code",
   "execution_count": 6,
   "id": "e018132f",
   "metadata": {},
   "outputs": [],
   "source": [
    "n = 500\n",
    "num_features = 10\n",
    "dim = 100\n",
    "diff_ratio = 0.1  # 10 taxa incorporates true signals\n",
    "b = np.log(5)\n",
    "\n",
    "type_Y = 'binary'\n",
    "epsilon = 0.001\n",
    "iterations = 3000\n",
    "\n",
    "lr = 0.0002"
   ]
  },
  {
   "cell_type": "code",
   "execution_count": null,
   "id": "33711bd5",
   "metadata": {},
   "outputs": [],
   "source": [
    "repetition = list()\n",
    "Y = np.r_[(-1) * np.ones(n // 2), np.ones(n // 2)]\n",
    "\n",
    "for i in range(50):\n",
    "    print(i, 'th iteration...')\n",
    "    num_true_pos = list()\n",
    "    st = time.time()\n",
    "    for ratio in [10, 30, 50, 70]:\n",
    "        X, true = Sampling(n, dim, diff_ratio=diff_ratio, b=b, seed=7 * i, **zero_ratio[ratio])\n",
    "        X = X / np.sum(X, axis=1)[:, None]\n",
    "\n",
    "        rank, w = ccm_coda.ccm(X, Y, num_features, type_Y, epsilon, learning_rate=lr, \n",
    "                                   iterations=iterations, init=None, verbose=True)\n",
    "        selected_feats = np.array(X.columns[np.sort(np.argsort(rank)[:num_features])])\n",
    "        print(\"Weights on the selected features:\", w[np.sort(np.argsort(rank)[:num_features])])\n",
    "        true_pos = summary_of_discovery(selected_feats, true)\n",
    "        num_true_pos.append(true_pos)\n",
    "    repetition.append(num_true_pos)\n",
    "    print(time.time() - st, \"sec per one experiment\")\n",
    "\n",
    "    with open(\"./results/Synthetic_safe/varying_zero_ratio_n500_m10.pickle\", 'wb') as f:\n",
    "        pickle.dump(repetition, f)"
   ]
  },
  {
   "cell_type": "code",
   "execution_count": 26,
   "id": "58e5f41c",
   "metadata": {},
   "outputs": [
    {
     "data": {
      "text/plain": [
       "(array([9.26, 9.1 , 9.12, 8.46]),\n",
       " array([1.30858702, 1.45945195, 0.7909488 , 1.32981202]),\n",
       " (50, 4))"
      ]
     },
     "execution_count": 26,
     "metadata": {},
     "output_type": "execute_result"
    }
   ],
   "source": [
    "# n=500\n",
    "np.mean(repetition, 0), np.std(repetition, 0), np.array(repetition).shape"
   ]
  },
  {
   "cell_type": "code",
   "execution_count": null,
   "id": "45d3dd32",
   "metadata": {},
   "outputs": [],
   "source": []
  },
  {
   "attachments": {},
   "cell_type": "markdown",
   "id": "e0e4e931",
   "metadata": {},
   "source": [
    "#### Results"
   ]
  },
  {
   "cell_type": "code",
   "execution_count": 10,
   "id": "4c86ccda",
   "metadata": {},
   "outputs": [],
   "source": [
    "with open(\"./results/Synthetic_safe/varying_zero_ratio_n500_m10.pickle\", 'rb') as fi:\n",
    "    proposed = pickle.load(fi)\n",
    "\n",
    "coda_lasso = pyreadr.read_r(\"./LassoSelbal/results/Synthetic_data/Truepos_diffzero_lasso_0.5rep.RData\")\n",
    "selbal = pyreadr.read_r(\"./LassoSelbal/results/Synthetic_data/Truepos_zerovary_selbal_0.5rep.RData\")\n",
    "\n",
    "coda_lasso = np.array(coda_lasso['num_true_pos'])\n",
    "selbal = np.array(selbal['truepos_selbal_zerovary'])\n",
    "\n",
    "proposed = np.array(proposed)"
   ]
  },
  {
   "cell_type": "code",
   "execution_count": 11,
   "id": "cc06b966",
   "metadata": {},
   "outputs": [
    {
     "name": "stdout",
     "output_type": "stream",
     "text": [
      "[9.26 9.1  9.12 8.46] +/- [0.18506215 0.20639767 0.11185705 0.18806382]\n",
      "[2.32 3.7  5.76 6.3 ] +/- [0.2217025  0.17720045 0.20111688 0.19235384]\n",
      "[0.78 1.74 3.36 4.22] +/- [0.1305067  0.15181568 0.15686937 0.16802381]\n"
     ]
    }
   ],
   "source": [
    "print(proposed.mean(0), \"+/-\", proposed.std(0)/np.sqrt(50))\n",
    "print(coda_lasso.mean(0), \"+/-\", coda_lasso.std(0)/np.sqrt(50))\n",
    "print(selbal.mean(0), \"+/-\", selbal.std(0)/np.sqrt(50))"
   ]
  },
  {
   "cell_type": "code",
   "execution_count": null,
   "id": "495b6647",
   "metadata": {},
   "outputs": [],
   "source": []
  },
  {
   "attachments": {},
   "cell_type": "markdown",
   "id": "410034b2",
   "metadata": {},
   "source": [
    "### (Optional) Apply our method to zero-replaced data (10%, 30%, 50%, 70%)\n",
    "\n",
    "**0.5min replacement**"
   ]
  },
  {
   "cell_type": "code",
   "execution_count": null,
   "id": "14964540",
   "metadata": {},
   "outputs": [],
   "source": [
    "repetition = list()\n",
    "Y = np.r_[(-1) * np.ones(n // 2), np.ones(n // 2)]\n",
    "\n",
    "for i in range(50):\n",
    "    print(i, 'th iteration...')\n",
    "    num_true_pos = list()\n",
    "    st = time.time()\n",
    "    for ratio in [10, 30, 50, 70]:\n",
    "        X, true = Sampling(n, dim, diff_ratio=diff_ratio, b=b, seed=7 * i, safe=0.3, **zero_ratio[ratio])\n",
    "        columns = X.columns\n",
    "        X = pd.DataFrame(zero_replacement(np.array(X), 'min', val=0.5))\n",
    "        X.columns = columns\n",
    "\n",
    "        rank, w = ccm_coda.ccm(X, Y, num_features, type_Y, epsilon, learning_rate=lr, \n",
    "                                   iterations=iterations, init=None, verbose=True)\n",
    "        selected_feats = np.array(X.columns[np.sort(np.argsort(rank)[:num_features])])\n",
    "        print(\"Weights on the selected features:\", w[np.sort(np.argsort(rank)[:num_features])])\n",
    "        true_pos = summary_of_discovery(selected_feats, true)\n",
    "        num_true_pos.append(true_pos)\n",
    "    repetition.append(num_true_pos)\n",
    "    print(time.time() - st, \"sec per one experiment\")\n",
    "\n",
    "    with open(\"./results/Synthetic_safe/varying_zero_ratio_n500_m10_replaced.pickle\", 'wb') as f:\n",
    "        pickle.dump(repetition, f)"
   ]
  },
  {
   "cell_type": "code",
   "execution_count": 8,
   "id": "746f969d",
   "metadata": {},
   "outputs": [
    {
     "data": {
      "text/plain": [
       "(array([9.28, 9.1 , 9.14, 9.08]),\n",
       " array([1.31209756, 1.45945195, 0.84876381, 0.99679486]),\n",
       " (50, 4))"
      ]
     },
     "execution_count": 8,
     "metadata": {},
     "output_type": "execute_result"
    }
   ],
   "source": [
    "np.mean(repetition, 0), np.std(repetition, 0), np.array(repetition).shape"
   ]
  },
  {
   "attachments": {},
   "cell_type": "markdown",
   "id": "d191826f",
   "metadata": {},
   "source": [
    "**1sum replacement**"
   ]
  },
  {
   "cell_type": "code",
   "execution_count": null,
   "id": "429eb872",
   "metadata": {},
   "outputs": [],
   "source": [
    "repetition = list()\n",
    "Y = np.r_[(-1) * np.ones(n // 2), np.ones(n // 2)]\n",
    "\n",
    "for i in range(50):\n",
    "    print(i, 'th iteration...')\n",
    "    num_true_pos = list()\n",
    "    st = time.time()\n",
    "    for ratio in [10, 30, 50, 70]:\n",
    "        X, true = Sampling(n, dim, diff_ratio=diff_ratio, b=b, seed=7 * i, safe=0.3, **zero_ratio[ratio])\n",
    "        X = X + 1\n",
    "        X = X / np.sum(X, axis=1)[:, None]\n",
    "\n",
    "        rank, w = ccm_coda.ccm(X, Y, num_features, type_Y, epsilon, learning_rate=lr, \n",
    "                                   iterations=iterations, init=None, verbose=True)\n",
    "        selected_feats = np.array(X.columns[np.sort(np.argsort(rank)[:num_features])])\n",
    "        print(\"Weights on the selected features:\", w[np.sort(np.argsort(rank)[:num_features])])\n",
    "        true_pos = summary_of_discovery(selected_feats, true)\n",
    "        num_true_pos.append(true_pos)\n",
    "    repetition.append(num_true_pos)\n",
    "    print(time.time() - st, \"sec per one experiment\")\n",
    "\n",
    "    with open(\"./results/Synthetic_safe/varying_zero_ratio_n500_m10_1sum_replaced.pickle\", 'wb') as f:\n",
    "        pickle.dump(repetition, f)"
   ]
  },
  {
   "cell_type": "code",
   "execution_count": 16,
   "id": "3c83726c",
   "metadata": {},
   "outputs": [
    {
     "data": {
      "text/plain": [
       "(array([9.28, 9.18, 9.32, 9.02]),\n",
       " array([1.31209756, 1.43791516, 0.67646138, 0.96932967]),\n",
       " (50, 4))"
      ]
     },
     "execution_count": 16,
     "metadata": {},
     "output_type": "execute_result"
    }
   ],
   "source": [
    "np.mean(repetition, 0), np.std(repetition, 0), np.array(repetition).shape"
   ]
  },
  {
   "cell_type": "code",
   "execution_count": null,
   "id": "685d8a5f",
   "metadata": {},
   "outputs": [],
   "source": []
  },
  {
   "cell_type": "code",
   "execution_count": null,
   "id": "aeb44900",
   "metadata": {},
   "outputs": [],
   "source": []
  }
 ],
 "metadata": {
  "kernelspec": {
   "display_name": "Python 3 (ipykernel)",
   "language": "python",
   "name": "python3"
  },
  "language_info": {
   "codemirror_mode": {
    "name": "ipython",
    "version": 3
   },
   "file_extension": ".py",
   "mimetype": "text/x-python",
   "name": "python",
   "nbconvert_exporter": "python",
   "pygments_lexer": "ipython3",
   "version": "3.8.12"
  }
 },
 "nbformat": 4,
 "nbformat_minor": 5
}
