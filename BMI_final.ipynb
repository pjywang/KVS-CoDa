{
 "cells": [
  {
   "cell_type": "code",
   "execution_count": 1,
   "id": "6efd6086",
   "metadata": {},
   "outputs": [],
   "source": [
    "import os\n",
    "os.environ[\"CUDA_VISIBLE_DEVICES\"]=\"0\""
   ]
  },
  {
   "cell_type": "code",
   "execution_count": 1,
   "id": "2d686c12",
   "metadata": {
    "scrolled": true
   },
   "outputs": [
    {
     "name": "stdout",
     "output_type": "stream",
     "text": [
      "[name: \"/device:CPU:0\"\n",
      "device_type: \"CPU\"\n",
      "memory_limit: 268435456\n",
      "locality {\n",
      "}\n",
      "incarnation: 5694533175892013116\n",
      "xla_global_id: -1\n",
      "]\n"
     ]
    }
   ],
   "source": [
    "import numpy as np\n",
    "\n",
    "import ccm_coda, kernel\n",
    "import kernel\n",
    "import tensorflow as tf\n",
    "\n",
    "import pickle, os\n",
    "\n",
    "from tools import * # we use cv_score, zero_replacement functions here\n",
    "\n",
    "from tensorflow.python.client import device_lib\n",
    "print(device_lib.list_local_devices())"
   ]
  },
  {
   "cell_type": "code",
   "execution_count": 2,
   "id": "6845c3f9",
   "metadata": {},
   "outputs": [],
   "source": [
    "import pandas as pd\n",
    "import matplotlib.pyplot as plt\n",
    "import composition_stats as cp\n",
    "\n",
    "from sklearn.model_selection import GridSearchCV, cross_val_score, KFold, StratifiedKFold, train_test_split, LeaveOneOut\n",
    "from sklearn.svm import SVC, LinearSVC, SVR\n",
    "from sklearn.kernel_ridge import KernelRidge\n",
    "from sklearn.metrics import accuracy_score, get_scorer, r2_score, mean_squared_error\n",
    "\n",
    "from scipy.spatial.distance import pdist\n",
    "\n",
    "import warnings\n",
    "warnings.filterwarnings(\"ignore\")"
   ]
  },
  {
   "cell_type": "code",
   "execution_count": null,
   "id": "4f32ab44",
   "metadata": {},
   "outputs": [],
   "source": []
  },
  {
   "attachments": {},
   "cell_type": "markdown",
   "id": "7d6ff769",
   "metadata": {},
   "source": [
    "## COMBO dataset\n",
    "Dataset downloaded from https://c-lasso.readthedocs.io/en/latest/auto_examples/plot_example_COMBO.html  "
   ]
  },
  {
   "cell_type": "code",
   "execution_count": 3,
   "id": "f214d8fd",
   "metadata": {},
   "outputs": [
    {
     "data": {
      "text/html": [
       "<div>\n",
       "<style scoped>\n",
       "    .dataframe tbody tr th:only-of-type {\n",
       "        vertical-align: middle;\n",
       "    }\n",
       "\n",
       "    .dataframe tbody tr th {\n",
       "        vertical-align: top;\n",
       "    }\n",
       "\n",
       "    .dataframe thead th {\n",
       "        text-align: right;\n",
       "    }\n",
       "</style>\n",
       "<table border=\"1\" class=\"dataframe\">\n",
       "  <thead>\n",
       "    <tr style=\"text-align: right;\">\n",
       "      <th></th>\n",
       "      <th>OTU_1</th>\n",
       "      <th>OTU_2</th>\n",
       "      <th>OTU_3</th>\n",
       "      <th>OTU_4</th>\n",
       "      <th>OTU_5</th>\n",
       "      <th>OTU_6</th>\n",
       "      <th>OTU_7</th>\n",
       "      <th>OTU_8</th>\n",
       "      <th>OTU_9</th>\n",
       "      <th>OTU_10</th>\n",
       "      <th>...</th>\n",
       "      <th>OTU_78</th>\n",
       "      <th>OTU_79</th>\n",
       "      <th>OTU_80</th>\n",
       "      <th>OTU_81</th>\n",
       "      <th>OTU_82</th>\n",
       "      <th>OTU_83</th>\n",
       "      <th>OTU_84</th>\n",
       "      <th>OTU_85</th>\n",
       "      <th>OTU_86</th>\n",
       "      <th>OTU_87</th>\n",
       "    </tr>\n",
       "  </thead>\n",
       "  <tbody>\n",
       "    <tr>\n",
       "      <th>1</th>\n",
       "      <td>Bacteria</td>\n",
       "      <td>Bacteria</td>\n",
       "      <td>Bacteria</td>\n",
       "      <td>Bacteria</td>\n",
       "      <td>Bacteria</td>\n",
       "      <td>Bacteria</td>\n",
       "      <td>Bacteria</td>\n",
       "      <td>Bacteria</td>\n",
       "      <td>Bacteria</td>\n",
       "      <td>Bacteria</td>\n",
       "      <td>...</td>\n",
       "      <td>Bacteria</td>\n",
       "      <td>Bacteria</td>\n",
       "      <td>Bacteria</td>\n",
       "      <td>Bacteria</td>\n",
       "      <td>Bacteria</td>\n",
       "      <td>Bacteria</td>\n",
       "      <td>Bacteria</td>\n",
       "      <td>Bacteria</td>\n",
       "      <td>Bacteria</td>\n",
       "      <td>Bacteria</td>\n",
       "    </tr>\n",
       "    <tr>\n",
       "      <th>2</th>\n",
       "      <td>Actinobacteria</td>\n",
       "      <td>Actinobacteria</td>\n",
       "      <td>Actinobacteria</td>\n",
       "      <td>Actinobacteria</td>\n",
       "      <td>Actinobacteria</td>\n",
       "      <td>Actinobacteria</td>\n",
       "      <td>Actinobacteria</td>\n",
       "      <td>Bacteroidetes</td>\n",
       "      <td>Bacteroidetes</td>\n",
       "      <td>Bacteroidetes</td>\n",
       "      <td>...</td>\n",
       "      <td>Proteobacteria</td>\n",
       "      <td>Proteobacteria</td>\n",
       "      <td>Proteobacteria</td>\n",
       "      <td>Proteobacteria</td>\n",
       "      <td>Proteobacteria</td>\n",
       "      <td>Proteobacteria</td>\n",
       "      <td>Proteobacteria</td>\n",
       "      <td>Synergistetes</td>\n",
       "      <td>Synergistetes</td>\n",
       "      <td>Verrucomicrobia</td>\n",
       "    </tr>\n",
       "    <tr>\n",
       "      <th>3</th>\n",
       "      <td>Actinobacteria</td>\n",
       "      <td>Actinobacteria</td>\n",
       "      <td>Actinobacteria</td>\n",
       "      <td>Actinobacteria</td>\n",
       "      <td>Actinobacteria</td>\n",
       "      <td>Actinobacteria</td>\n",
       "      <td>Actinobacteria</td>\n",
       "      <td>Bacteroidia</td>\n",
       "      <td>Bacteroidia</td>\n",
       "      <td>Bacteroidia</td>\n",
       "      <td>...</td>\n",
       "      <td>Betaproteobacteria</td>\n",
       "      <td>Betaproteobacteria</td>\n",
       "      <td>Deltaproteobacteria</td>\n",
       "      <td>Epsilonproteobacteria</td>\n",
       "      <td>Gammaproteobacteria</td>\n",
       "      <td>Gammaproteobacteria</td>\n",
       "      <td>Gammaproteobacteria</td>\n",
       "      <td>Synergistia</td>\n",
       "      <td>Synergistia</td>\n",
       "      <td>Verrucomicrobiae</td>\n",
       "    </tr>\n",
       "    <tr>\n",
       "      <th>4</th>\n",
       "      <td>Coriobacteriales</td>\n",
       "      <td>Coriobacteriales</td>\n",
       "      <td>Coriobacteriales</td>\n",
       "      <td>Coriobacteriales</td>\n",
       "      <td>Coriobacteriales</td>\n",
       "      <td>Coriobacteriales</td>\n",
       "      <td>Coriobacteriales</td>\n",
       "      <td>Bacteroidales</td>\n",
       "      <td>Bacteroidales</td>\n",
       "      <td>Bacteroidales</td>\n",
       "      <td>...</td>\n",
       "      <td>Burkholderiales</td>\n",
       "      <td>Neisseriales</td>\n",
       "      <td>Desulfovibrionales</td>\n",
       "      <td>Campylobacterales</td>\n",
       "      <td>Aeromonadales</td>\n",
       "      <td>Pseudomonadales</td>\n",
       "      <td>Xanthomonadales</td>\n",
       "      <td>Synergistales</td>\n",
       "      <td>Synergistales</td>\n",
       "      <td>Verrucomicrobiales</td>\n",
       "    </tr>\n",
       "    <tr>\n",
       "      <th>5</th>\n",
       "      <td>Coriobacteriaceae</td>\n",
       "      <td>Coriobacteriaceae</td>\n",
       "      <td>Coriobacteriaceae</td>\n",
       "      <td>Coriobacteriaceae</td>\n",
       "      <td>Coriobacteriaceae</td>\n",
       "      <td>Coriobacteriaceae</td>\n",
       "      <td>Coriobacteriaceae</td>\n",
       "      <td>Bacteroidaceae</td>\n",
       "      <td>Porphyromonadaceae</td>\n",
       "      <td>Porphyromonadaceae</td>\n",
       "      <td>...</td>\n",
       "      <td>Oxalobacteraceae</td>\n",
       "      <td>Neisseriaceae</td>\n",
       "      <td>Desulfovibrionaceae</td>\n",
       "      <td>Campylobacteraceae</td>\n",
       "      <td>Succinivibrionaceae</td>\n",
       "      <td>Pseudomonadaceae</td>\n",
       "      <td>Xanthomonadaceae</td>\n",
       "      <td>Synergistaceae</td>\n",
       "      <td>Synergistaceae</td>\n",
       "      <td>Verrucomicrobiaceae</td>\n",
       "    </tr>\n",
       "    <tr>\n",
       "      <th>6</th>\n",
       "      <td>Asaccharobacter</td>\n",
       "      <td>Atopobium</td>\n",
       "      <td>Collinsella</td>\n",
       "      <td>Eggerthella</td>\n",
       "      <td>Gordonibacter</td>\n",
       "      <td>Olsenella</td>\n",
       "      <td>Slackia</td>\n",
       "      <td>Bacteroides</td>\n",
       "      <td>Barnesiella</td>\n",
       "      <td>Butyricimonas</td>\n",
       "      <td>...</td>\n",
       "      <td>Oxalobacter</td>\n",
       "      <td>Neisseria</td>\n",
       "      <td>Desulfovibrio</td>\n",
       "      <td>Campylobacter</td>\n",
       "      <td>Succinivibrio</td>\n",
       "      <td>Pseudomonas</td>\n",
       "      <td>Stenotrophomonas</td>\n",
       "      <td>Cloacibacillus</td>\n",
       "      <td>Pyramidobacter</td>\n",
       "      <td>Akkermansia</td>\n",
       "    </tr>\n",
       "  </tbody>\n",
       "</table>\n",
       "<p>6 rows × 87 columns</p>\n",
       "</div>"
      ],
      "text/plain": [
       "0               OTU_1               OTU_2               OTU_3  \\\n",
       "1            Bacteria            Bacteria            Bacteria   \n",
       "2      Actinobacteria      Actinobacteria      Actinobacteria   \n",
       "3      Actinobacteria      Actinobacteria      Actinobacteria   \n",
       "4    Coriobacteriales    Coriobacteriales    Coriobacteriales   \n",
       "5   Coriobacteriaceae   Coriobacteriaceae   Coriobacteriaceae   \n",
       "6     Asaccharobacter           Atopobium         Collinsella   \n",
       "\n",
       "0               OTU_4               OTU_5               OTU_6  \\\n",
       "1            Bacteria            Bacteria            Bacteria   \n",
       "2      Actinobacteria      Actinobacteria      Actinobacteria   \n",
       "3      Actinobacteria      Actinobacteria      Actinobacteria   \n",
       "4    Coriobacteriales    Coriobacteriales    Coriobacteriales   \n",
       "5   Coriobacteriaceae   Coriobacteriaceae   Coriobacteriaceae   \n",
       "6         Eggerthella       Gordonibacter           Olsenella   \n",
       "\n",
       "0               OTU_7            OTU_8                OTU_9  \\\n",
       "1            Bacteria         Bacteria             Bacteria   \n",
       "2      Actinobacteria    Bacteroidetes        Bacteroidetes   \n",
       "3      Actinobacteria      Bacteroidia          Bacteroidia   \n",
       "4    Coriobacteriales    Bacteroidales        Bacteroidales   \n",
       "5   Coriobacteriaceae   Bacteroidaceae   Porphyromonadaceae   \n",
       "6             Slackia      Bacteroides          Barnesiella   \n",
       "\n",
       "0               OTU_10  ...               OTU_78               OTU_79  \\\n",
       "1             Bacteria  ...             Bacteria             Bacteria   \n",
       "2        Bacteroidetes  ...       Proteobacteria       Proteobacteria   \n",
       "3          Bacteroidia  ...   Betaproteobacteria   Betaproteobacteria   \n",
       "4        Bacteroidales  ...      Burkholderiales         Neisseriales   \n",
       "5   Porphyromonadaceae  ...     Oxalobacteraceae        Neisseriaceae   \n",
       "6        Butyricimonas  ...          Oxalobacter            Neisseria   \n",
       "\n",
       "0                OTU_80                  OTU_81                OTU_82  \\\n",
       "1              Bacteria                Bacteria              Bacteria   \n",
       "2        Proteobacteria          Proteobacteria        Proteobacteria   \n",
       "3   Deltaproteobacteria   Epsilonproteobacteria   Gammaproteobacteria   \n",
       "4    Desulfovibrionales       Campylobacterales         Aeromonadales   \n",
       "5   Desulfovibrionaceae      Campylobacteraceae   Succinivibrionaceae   \n",
       "6         Desulfovibrio           Campylobacter         Succinivibrio   \n",
       "\n",
       "0                OTU_83                OTU_84           OTU_85  \\\n",
       "1              Bacteria              Bacteria         Bacteria   \n",
       "2        Proteobacteria        Proteobacteria    Synergistetes   \n",
       "3   Gammaproteobacteria   Gammaproteobacteria      Synergistia   \n",
       "4       Pseudomonadales       Xanthomonadales    Synergistales   \n",
       "5      Pseudomonadaceae      Xanthomonadaceae   Synergistaceae   \n",
       "6           Pseudomonas      Stenotrophomonas   Cloacibacillus   \n",
       "\n",
       "0           OTU_86                OTU_87  \n",
       "1         Bacteria              Bacteria  \n",
       "2    Synergistetes       Verrucomicrobia  \n",
       "3      Synergistia      Verrucomicrobiae  \n",
       "4    Synergistales    Verrucomicrobiales  \n",
       "5   Synergistaceae   Verrucomicrobiaceae  \n",
       "6   Pyramidobacter           Akkermansia  \n",
       "\n",
       "[6 rows x 87 columns]"
      ]
     },
     "execution_count": 3,
     "metadata": {},
     "output_type": "execute_result"
    }
   ],
   "source": [
    "count = pd.read_csv('./datasets/COMBO_data/complete_data/GeneraCounts.csv', header=None)\n",
    "count = count.transpose()\n",
    "\n",
    "tax_table = pd.read_csv('./datasets/COMBO_data/complete_data/GeneraPhylo.csv', header=None)\n",
    "tax_table = tax_table.transpose()\n",
    "tax_table.columns = tax_table.iloc[0]\n",
    "tax_table.drop(tax_table.index[0], inplace=True)\n",
    "tax_table"
   ]
  },
  {
   "cell_type": "code",
   "execution_count": 4,
   "id": "3655cbe3",
   "metadata": {},
   "outputs": [
    {
     "name": "stdout",
     "output_type": "stream",
     "text": [
      "zero ratio: 0.7209051724137931\n"
     ]
    }
   ],
   "source": [
    "# BMI as response\n",
    "Y = pd.read_csv('./datasets/COMBO_data/BMI.csv', header=None)\n",
    "Y = np.array(Y).ravel()\n",
    "\n",
    "# Zero ratio, make composotional\n",
    "X = np.array(count, dtype=float)\n",
    "print(\"zero ratio:\", np.sum(X == 0) / X.size)\n",
    "X = X / np.sum(X, axis=1)[:, None]"
   ]
  },
  {
   "attachments": {},
   "cell_type": "markdown",
   "id": "970bc208",
   "metadata": {},
   "source": [
    "To make comparison with GBM zero replacement, we delete columns with only one nonzero value"
   ]
  },
  {
   "cell_type": "code",
   "execution_count": 5,
   "id": "d81971d6",
   "metadata": {},
   "outputs": [
    {
     "name": "stdout",
     "output_type": "stream",
     "text": [
      "(96, 77)\n",
      "zero ratio: 0.6860119047619048\n"
     ]
    }
   ],
   "source": [
    "valid_idx = np.sum(X > 0, axis=0) > 1\n",
    "\n",
    "X = np.array(count.iloc[:, valid_idx], dtype=float)\n",
    "print(X.shape)\n",
    "print(\"zero ratio:\", np.sum(X == 0) / X.size)\n",
    "X = X / np.sum(X, axis=1)[:, None]"
   ]
  },
  {
   "cell_type": "code",
   "execution_count": null,
   "id": "8a03c8d6",
   "metadata": {},
   "outputs": [],
   "source": []
  },
  {
   "attachments": {},
   "cell_type": "markdown",
   "id": "956bb7ba",
   "metadata": {},
   "source": [
    "## CV-MSE computation in conjunction with Kernel Ridge Regression\n",
    "Rewrite this section using the Section \"Using Column-deleted Data\""
   ]
  },
  {
   "cell_type": "code",
   "execution_count": null,
   "id": "df0e5e09",
   "metadata": {},
   "outputs": [],
   "source": [
    "for m in [3, 5, 10, 77]:\n",
    "    cv_score(X, Y - Y.mean(0), \"real-valued\", num_features=m, model_name=\"krr\", savepath=\"bmi_final\",\n",
    "             epsilon = 0.1, learning_rate = 0.001, \n",
    "             iterations = 5000, verbose=True,\n",
    "             outer_folds = 5, inner_folds = 5, N_TRIALS=10,\n",
    "             do_alpha=True, no_gamma=False, radial=True, oneSE=True)"
   ]
  },
  {
   "cell_type": "code",
   "execution_count": 14,
   "id": "06e1773e",
   "metadata": {},
   "outputs": [
    {
     "name": "stdout",
     "output_type": "stream",
     "text": [
      "28.90191912108356 0.053039353626440376\n",
      "Selected features are: [15 40 48]\n",
      "28.873559945159844 0.037140273387692165\n",
      "Selected features are: [14 15 40 48 58]\n",
      "28.98394520611011 0.11514238873274053\n",
      "Selected features are: [ 9 14 15 40 48 54 56 58 63 69]\n",
      "29.29507497131206 0.29381417600100346\n"
     ]
    }
   ],
   "source": [
    "selections = dict()\n",
    "for m in [3, 5, 10, 77]:\n",
    "    with open(\"./results/real_data/bmi_final/krr_neg_mean_squared_error_{}_1seTrue_radial.pickle\".format(m), \"rb\") as fi:\n",
    "        score, selection = pickle.load(fi)\n",
    "    score_cv = np.mean(score, axis=1)\n",
    "    print(np.mean(score_cv), np.std(score_cv)/np.sqrt(10))\n",
    "    if m == 77:\n",
    "        break\n",
    "    selections[m] = selection_wrapper(selection, 77)\n",
    "    # m = 77 (dim of X) is for comparison"
   ]
  },
  {
   "cell_type": "code",
   "execution_count": 15,
   "id": "73d26a02",
   "metadata": {},
   "outputs": [
    {
     "name": "stdout",
     "output_type": "stream",
     "text": [
      "3 variables\n",
      "\n",
      " 0          OTU_16            OTU_41            OTU_49\n",
      "1        Bacteria          Bacteria          Bacteria\n",
      "2   Bacteroidetes        Firmicutes        Firmicutes\n",
      "3     Bacteroidia        Clostridia        Clostridia\n",
      "4   Bacteroidales     Clostridiales     Clostridiales\n",
      "5   Rikenellaceae   Lachnospiraceae   Ruminococcaceae\n",
      "6       Alistipes             Dorea     Anaerotruncus \n",
      "\n",
      "5 variables\n",
      "\n",
      " 0           OTU_15          OTU_16            OTU_41            OTU_49  \\\n",
      "1         Bacteria        Bacteria          Bacteria          Bacteria   \n",
      "2    Bacteroidetes   Bacteroidetes        Firmicutes        Firmicutes   \n",
      "3      Bacteroidia     Bacteroidia        Clostridia        Clostridia   \n",
      "4    Bacteroidales   Bacteroidales     Clostridiales     Clostridiales   \n",
      "5   Prevotellaceae   Rikenellaceae   Lachnospiraceae   Ruminococcaceae   \n",
      "6       Prevotella       Alistipes             Dorea     Anaerotruncus   \n",
      "\n",
      "0            OTU_59  \n",
      "1          Bacteria  \n",
      "2        Firmicutes  \n",
      "3        Clostridia  \n",
      "4     Clostridiales  \n",
      "5   Veillonellaceae  \n",
      "6         Dialister   \n",
      "\n",
      "10 variables\n",
      "\n",
      " 0               OTU_10           OTU_15          OTU_16            OTU_41  \\\n",
      "1             Bacteria         Bacteria        Bacteria          Bacteria   \n",
      "2        Bacteroidetes    Bacteroidetes   Bacteroidetes        Firmicutes   \n",
      "3          Bacteroidia      Bacteroidia     Bacteroidia        Clostridia   \n",
      "4        Bacteroidales    Bacteroidales   Bacteroidales     Clostridiales   \n",
      "5   Porphyromonadaceae   Prevotellaceae   Rikenellaceae   Lachnospiraceae   \n",
      "6        Butyricimonas       Prevotella       Alistipes             Dorea   \n",
      "\n",
      "0            OTU_49            OTU_55            OTU_57            OTU_59  \\\n",
      "1          Bacteria          Bacteria          Bacteria          Bacteria   \n",
      "2        Firmicutes        Firmicutes        Firmicutes        Firmicutes   \n",
      "3        Clostridia        Clostridia        Clostridia        Clostridia   \n",
      "4     Clostridiales     Clostridiales     Clostridiales     Clostridiales   \n",
      "5   Ruminococcaceae   Ruminococcaceae   Veillonellaceae   Veillonellaceae   \n",
      "6     Anaerotruncus       Sporobacter   Acidaminococcus         Dialister   \n",
      "\n",
      "0             OTU_64                OTU_70  \n",
      "1           Bacteria              Bacteria  \n",
      "2         Firmicutes            Firmicutes  \n",
      "3         Clostridia       Erysipelotrichi  \n",
      "4      Clostridiales    Erysipelotrichales  \n",
      "5    Veillonellaceae   Erysipelotrichaceae  \n",
      "6   Succiniclasticum         Solobacterium   \n",
      "\n"
     ]
    }
   ],
   "source": [
    "for m in [3, 5, 10]:\n",
    "    print(\"{} variables\\n\\n\".format(m), tax_table.iloc[:, selections[m]['Selected_features']], \"\\n\")"
   ]
  },
  {
   "cell_type": "code",
   "execution_count": null,
   "id": "13132d7c",
   "metadata": {},
   "outputs": [],
   "source": []
  },
  {
   "cell_type": "code",
   "execution_count": null,
   "id": "14461f62",
   "metadata": {},
   "outputs": [],
   "source": [
    "new_score = list()\n",
    "for m in [3, 5, 10, 77]:\n",
    "    with open(\"./results/real_data/bmi_rm/krr_neg_mean_squared_error_{}_1seTrue_radial.pickle\".format(m), \"rb\") as fi:\n",
    "        score, selection = pickle.load(fi)\n",
    "\n",
    "    score = cv_with_selection(X, Y - Y.mean(0), 'real-valued', selection, savepath=\"bmi3\",\n",
    "                              proj_method = 'compo', model_name='krr',\n",
    "                              inner_folds=5, do_alpha=True, no_gamma=False, \n",
    "                              radial=True, oneSE=True)\n",
    "    new_score.append(score)\n",
    "new_score"
   ]
  },
  {
   "cell_type": "code",
   "execution_count": null,
   "id": "b73f5c89",
   "metadata": {},
   "outputs": [
    {
     "name": "stdout",
     "output_type": "stream",
     "text": [
      "28.90191912108356 0.053039353626440376 (10,)\n",
      "28.873559945159844 0.037140273387692165 (10,)\n",
      "28.98394520611011 0.11514238873274053 (10,)\n",
      "29.29507497131206 0.29381417600100346 (10,)\n"
     ]
    }
   ],
   "source": [
    "for m in [3, 5, 10, 77]:\n",
    "    with open(\"./results/real_data/bmi3/krr_neg_mean_squared_error_{}_1seTrue_radial.pickle\".format(m), \"rb\") as fi:\n",
    "        score, selection = pickle.load(fi)\n",
    "    score_cv = np.mean(score, axis=1)\n",
    "    print(np.mean(score_cv), np.std(score_cv)/np.sqrt(10))"
   ]
  },
  {
   "cell_type": "code",
   "execution_count": null,
   "id": "5ec6dd62",
   "metadata": {},
   "outputs": [],
   "source": []
  },
  {
   "cell_type": "code",
   "execution_count": null,
   "id": "c4e7d5dc",
   "metadata": {},
   "outputs": [],
   "source": []
  },
  {
   "attachments": {},
   "cell_type": "markdown",
   "id": "699235fc",
   "metadata": {},
   "source": [
    "## Coda-lasso experiments with the c-lasso module"
   ]
  },
  {
   "cell_type": "code",
   "execution_count": 17,
   "id": "206e4df1",
   "metadata": {},
   "outputs": [],
   "source": [
    "from classo import classo_problem\n",
    "  \n",
    "def learn(Z, Y, C=None, label=None, lam=\"theoretical\"):\n",
    "    # Z: log-transformed compositional data\n",
    "    # Default C: zero sum constraint\n",
    "    problem = classo_problem(Z, Y, C, label=label)\n",
    "    problem.formulation.concomitant = False\n",
    "    problem.formulation.huber = False\n",
    "    problem.formulation.intercept = True\n",
    "\n",
    "    problem.model_selection.CV = False\n",
    "    problem.model_selection.ALO = False\n",
    "    problem.model_selection.StabSel = False\n",
    "\n",
    "    problem.model_selection.LAMfixed = True\n",
    "    problem.model_selection.LAMfixedparameters.lam = lam\n",
    "    problem.solve()\n",
    "    \n",
    "    return problem\n",
    "\n",
    "\n",
    "def predict(model, X_new):\n",
    "    beta = model.solution.LAMfixed.beta\n",
    "    X_new = np.c_[np.ones(len(X_new)), X_new]\n",
    "    return X_new @ beta"
   ]
  },
  {
   "cell_type": "code",
   "execution_count": 18,
   "id": "8f84bd26",
   "metadata": {},
   "outputs": [],
   "source": [
    "def cv_lasso_regression(X, Y, savepath='bmi_final', C=None, label=None, lamseq=np.geomspace(1e-3, 1, 100),\n",
    "                   outer_folds = 5, inner_folds = 5, oneSE=False, N_TRIALS = 10, **krgs,\n",
    "                   ):\n",
    "    '''\n",
    "    Input X should be zero-replaced count or compositional data\n",
    "    label=None is almost always better.. it returns indices\n",
    "    '''\n",
    "    assert (X > 1e-10).all(), \"Replace zeros or check the data type\"\n",
    "    X = np.log(X)\n",
    "    \n",
    "    if label is None:\n",
    "        label = np.arange(X.shape[1])\n",
    "\n",
    "    score_all = list()\n",
    "    selection_all = list()\n",
    "    \n",
    "    for seed_ in range(1, N_TRIALS + 1):\n",
    "        print(\"\\n\", seed_, \"th cv experiment...\")\n",
    "\n",
    "        # Outer cv folds\n",
    "        Outer_cv = KFold(n_splits=outer_folds, shuffle=True, random_state=seed_)\n",
    "        score = list()\n",
    "        selection = list()\n",
    "        \n",
    "        # Outer cv loop\n",
    "        for i, (train_idx, test_idx) in enumerate(Outer_cv.split(X)):\n",
    "            print(f\"\\n Fold {i}:\")\n",
    "            X_train, Y_train = X[train_idx], Y[train_idx]\n",
    "            X_test, Y_test = X[test_idx], Y[test_idx]\n",
    "\n",
    "            if inner_folds is None:\n",
    "                raise Exception(\"Not yet developed\")\n",
    "            else:\n",
    "                # Do inner cv on X_train to choose lambda parameter\n",
    "                inner_cv = KFold(n_splits=inner_folds, shuffle=True, random_state=seed_ * N_TRIALS + i)\n",
    "                cv_scores = np.zeros((len(lamseq), inner_folds))\n",
    "                \n",
    "                for j, (tr, val_idx) in enumerate(inner_cv.split(X_train)):\n",
    "                    for k in range(len(lamseq)):\n",
    "                        lam = lamseq[k]\n",
    "                        model = learn(X_train[tr], Y_train[tr], lam=lam)\n",
    "                        cv_scores[k, j] = mean_squared_error(Y_train[val_idx],\n",
    "                                                            predict(model, X_train[val_idx]))\n",
    "                \n",
    "                # Parameter selection based on inner_cv result\n",
    "                cv_scores_collected = cv_scores.mean(axis=1)\n",
    "                \n",
    "                if oneSE:\n",
    "                    # Take maximal lambda among the [min, min+1se] scores\n",
    "                    min_plus_1se = np.min(cv_scores_collected) + np.std(cv_scores_collected) / np.sqrt(len(cv_scores_collected))\n",
    "                    mask = cv_scores_collected < min_plus_1se\n",
    "                    lamb = lamseq[mask][-1]\n",
    "                    # print(\"models:\", lamseq[mask])\n",
    "                else:\n",
    "                    # find lambda \"minimizing\" cv-mse\n",
    "                    lamb = lamseq[np.argmin(cv_scores_collected)]\n",
    "                # Refit\n",
    "                refitted_model = learn(X_train, Y_train, label=label, lam=lamb)\n",
    "                \n",
    "            # Get score\n",
    "            refitted_score = mean_squared_error(Y_test,\n",
    "                                                predict(refitted_model, X_test))\n",
    "            selected_feats = label[refitted_model.solution.LAMfixed.selected_param[1:]]\n",
    "            print(\"CV lambda, refitted score:\", lamb, ',', refitted_score)\n",
    "            print(\"Selected feats:\", selected_feats)\n",
    "            score.append(refitted_score)\n",
    "            selection.append(selected_feats)\n",
    "        \n",
    "        # Wrap up the result of _ th iteration\n",
    "        score_all.append(score)\n",
    "        selection_all.append(selection)\n",
    "    \n",
    "    print(np.mean(score_all), \"\\n\")\n",
    "    \n",
    "    # Save\n",
    "    with open(\"./results/real_data/{}/cvlasso_inner{}_1se{}.pickle\".format(savepath, inner_folds, oneSE), 'wb') as f:\n",
    "        pickle.dump((score_all, selection_all), f)\n",
    "    return score_all\n",
    "        "
   ]
  },
  {
   "cell_type": "code",
   "execution_count": null,
   "id": "d46f93d3",
   "metadata": {},
   "outputs": [],
   "source": []
  },
  {
   "cell_type": "code",
   "execution_count": null,
   "id": "6a0e901a",
   "metadata": {},
   "outputs": [],
   "source": [
    "# 0.5min replacement\n",
    "X_replaced = zero_replacement(X, method='min', val=1/2)\n",
    "cv_lasso_regression(X_replaced, Y, savepath='bmi_final', label=None, inner_folds=5)"
   ]
  },
  {
   "cell_type": "code",
   "execution_count": 3,
   "id": "b1393845",
   "metadata": {},
   "outputs": [
    {
     "data": {
      "text/plain": [
       "(29.28863623980923, 0.2969653109467116)"
      ]
     },
     "execution_count": 3,
     "metadata": {},
     "output_type": "execute_result"
    }
   ],
   "source": [
    "with open(\"./results/real_data/{}/cvlasso_inner{}_1se{}_0.5min.pickle\".format(\"bmi_final\", 5, False), 'rb') as fi:\n",
    "    score, selection = pickle.load(fi)\n",
    "mse_through_repeat = np.mean(score, axis=1)\n",
    "mse_through_repeat.mean(), mse_through_repeat.std() / np.sqrt(10)"
   ]
  },
  {
   "cell_type": "code",
   "execution_count": 4,
   "id": "2cc83f5b",
   "metadata": {},
   "outputs": [
    {
     "data": {
      "text/plain": [
       "[[array([15, 52], dtype=int64),\n",
       "  array([24, 52, 53], dtype=int64),\n",
       "  array([15, 52], dtype=int64),\n",
       "  array([24, 52, 53], dtype=int64),\n",
       "  array([24, 48, 52, 62], dtype=int64)],\n",
       " [array([], dtype=int64),\n",
       "  array([15, 52], dtype=int64),\n",
       "  array([24, 52], dtype=int64),\n",
       "  array([15, 24, 37, 52, 53], dtype=int64),\n",
       "  array([48, 52, 53, 62], dtype=int64)],\n",
       " [array([24, 37, 48, 52, 55, 62], dtype=int64),\n",
       "  array([52], dtype=int64),\n",
       "  array([15, 52, 55], dtype=int64),\n",
       "  array([15, 52], dtype=int64),\n",
       "  array([], dtype=int64)],\n",
       " [array([], dtype=int64),\n",
       "  array([52], dtype=int64),\n",
       "  array([15, 24, 48, 52, 55, 62, 66], dtype=int64),\n",
       "  array([15, 24, 52, 55, 62], dtype=int64),\n",
       "  array([], dtype=int64)],\n",
       " [array([52], dtype=int64),\n",
       "  array([15, 24, 49, 52, 53, 55, 61], dtype=int64),\n",
       "  array([], dtype=int64),\n",
       "  array([24, 52], dtype=int64),\n",
       "  array([52], dtype=int64)],\n",
       " [array([], dtype=int64),\n",
       "  array([24, 52, 53, 55, 62], dtype=int64),\n",
       "  array([15, 24, 49, 52, 53, 55], dtype=int64),\n",
       "  array([52], dtype=int64),\n",
       "  array([15, 52], dtype=int64)],\n",
       " [array([15, 24, 48, 49, 52, 53, 55, 62], dtype=int64),\n",
       "  array([52], dtype=int64),\n",
       "  array([52], dtype=int64),\n",
       "  array([15, 24, 37, 48, 53], dtype=int64),\n",
       "  array([15, 24, 53, 55], dtype=int64)],\n",
       " [array([15, 24, 52, 53], dtype=int64),\n",
       "  array([48, 52], dtype=int64),\n",
       "  array([], dtype=int64),\n",
       "  array([15, 24, 52, 53, 55, 62], dtype=int64),\n",
       "  array([], dtype=int64)],\n",
       " [array([15, 24, 52, 53], dtype=int64),\n",
       "  array([52], dtype=int64),\n",
       "  array([15, 37, 52], dtype=int64),\n",
       "  array([52], dtype=int64),\n",
       "  array([52], dtype=int64)],\n",
       " [array([], dtype=int64),\n",
       "  array([24, 52, 56], dtype=int64),\n",
       "  array([15, 24, 52, 55, 56], dtype=int64),\n",
       "  array([15, 24, 37, 48, 52, 62], dtype=int64),\n",
       "  array([], dtype=int64)]]"
      ]
     },
     "execution_count": 4,
     "metadata": {},
     "output_type": "execute_result"
    }
   ],
   "source": [
    "selection"
   ]
  },
  {
   "attachments": {},
   "cell_type": "markdown",
   "id": "c30ba3e7",
   "metadata": {},
   "source": [
    "As shown below, applying 1se rule for CV returns almost no selection but intercept (lasso isn't prone to overfitting)  \n",
    "We only record CV result without applying 1se rule for lasso"
   ]
  },
  {
   "cell_type": "code",
   "execution_count": null,
   "id": "2a8770fd",
   "metadata": {},
   "outputs": [],
   "source": [
    "# 1se applied\n",
    "X_replaced = zero_replacement(X, method='min', val=1/2)\n",
    "cv_lasso_regression(X_replaced, Y, savepath='bmi_final', label=None, inner_folds=5, oneSE=True)"
   ]
  },
  {
   "cell_type": "code",
   "execution_count": 25,
   "id": "3ea96692",
   "metadata": {},
   "outputs": [
    {
     "data": {
      "text/plain": [
       "(29.58014152071525, 0.16147063989710317)"
      ]
     },
     "execution_count": 25,
     "metadata": {},
     "output_type": "execute_result"
    }
   ],
   "source": [
    "with open(\"./results/real_data/{}/cvlasso_inner{}_1se{}_0.5min.pickle\".format(\"bmi_final\", 5, True), 'rb') as fi:\n",
    "    score, selection = pickle.load(fi)\n",
    "mse_through_repeat = np.mean(score, axis=1)\n",
    "mse_through_repeat.mean(), mse_through_repeat.std() / np.sqrt(10)"
   ]
  },
  {
   "cell_type": "code",
   "execution_count": 26,
   "id": "7cf35621",
   "metadata": {},
   "outputs": [
    {
     "data": {
      "text/plain": [
       "[[array([], dtype=int64),\n",
       "  array([], dtype=int64),\n",
       "  array([], dtype=int64),\n",
       "  array([], dtype=int64),\n",
       "  array([], dtype=int64)],\n",
       " [array([], dtype=int64),\n",
       "  array([], dtype=int64),\n",
       "  array([], dtype=int64),\n",
       "  array([], dtype=int64),\n",
       "  array([], dtype=int64)],\n",
       " [array([24, 48, 52]),\n",
       "  array([], dtype=int64),\n",
       "  array([], dtype=int64),\n",
       "  array([], dtype=int64),\n",
       "  array([], dtype=int64)],\n",
       " [array([], dtype=int64),\n",
       "  array([], dtype=int64),\n",
       "  array([], dtype=int64),\n",
       "  array([], dtype=int64),\n",
       "  array([], dtype=int64)],\n",
       " [array([], dtype=int64),\n",
       "  array([], dtype=int64),\n",
       "  array([], dtype=int64),\n",
       "  array([], dtype=int64),\n",
       "  array([], dtype=int64)],\n",
       " [array([], dtype=int64),\n",
       "  array([24, 56]),\n",
       "  array([], dtype=int64),\n",
       "  array([], dtype=int64),\n",
       "  array([], dtype=int64)],\n",
       " [array([], dtype=int64),\n",
       "  array([], dtype=int64),\n",
       "  array([], dtype=int64),\n",
       "  array([], dtype=int64),\n",
       "  array([], dtype=int64)],\n",
       " [array([], dtype=int64),\n",
       "  array([], dtype=int64),\n",
       "  array([], dtype=int64),\n",
       "  array([], dtype=int64),\n",
       "  array([], dtype=int64)],\n",
       " [array([], dtype=int64),\n",
       "  array([], dtype=int64),\n",
       "  array([], dtype=int64),\n",
       "  array([], dtype=int64),\n",
       "  array([], dtype=int64)],\n",
       " [array([], dtype=int64),\n",
       "  array([], dtype=int64),\n",
       "  array([], dtype=int64),\n",
       "  array([], dtype=int64),\n",
       "  array([], dtype=int64)]]"
      ]
     },
     "execution_count": 26,
     "metadata": {},
     "output_type": "execute_result"
    }
   ],
   "source": [
    "# lasso with 1se rule asserts almost no selection is the best\n",
    "selection"
   ]
  },
  {
   "cell_type": "code",
   "execution_count": null,
   "id": "6358bf89",
   "metadata": {},
   "outputs": [],
   "source": []
  },
  {
   "attachments": {},
   "cell_type": "markdown",
   "id": "f2a6a29e",
   "metadata": {},
   "source": [
    "### 1sum replacement"
   ]
  },
  {
   "cell_type": "code",
   "execution_count": null,
   "id": "9c99eaf1",
   "metadata": {},
   "outputs": [],
   "source": [
    "# 1sum replacement\n",
    "X_replaced = zero_replacement(X, method='sum', val=1.)\n",
    "cv_lasso_regression(X_replaced, Y, savepath='bmi_final', label=None, inner_folds=5)"
   ]
  },
  {
   "cell_type": "code",
   "execution_count": 5,
   "id": "c3535b66",
   "metadata": {},
   "outputs": [
    {
     "data": {
      "text/plain": [
       "(30.516218621834316, 0.37851058876287474)"
      ]
     },
     "execution_count": 5,
     "metadata": {},
     "output_type": "execute_result"
    }
   ],
   "source": [
    "with open(\"./results/real_data/{}/cvlasso_inner{}_1se{}_1sum.pickle\".format(\"bmi_final\", 5, False), 'rb') as fi:\n",
    "    score, selection = pickle.load(fi)\n",
    "mse_through_repeat = np.mean(score, axis=1)\n",
    "mse_through_repeat.mean(), mse_through_repeat.std() / np.sqrt(10)"
   ]
  },
  {
   "cell_type": "code",
   "execution_count": 6,
   "id": "2c672438",
   "metadata": {},
   "outputs": [
    {
     "data": {
      "text/plain": [
       "[[array([15, 56], dtype=int64),\n",
       "  array([], dtype=int64),\n",
       "  array([14, 15, 48, 56], dtype=int64),\n",
       "  array([], dtype=int64),\n",
       "  array([], dtype=int64)],\n",
       " [array([], dtype=int64),\n",
       "  array([14, 15, 56], dtype=int64),\n",
       "  array([ 8, 10, 36, 40, 46, 48, 49, 54, 56, 58, 62, 69], dtype=int64),\n",
       "  array([14, 15, 56], dtype=int64),\n",
       "  array([ 7, 14, 15, 40, 48, 56], dtype=int64)],\n",
       " [array([ 7,  8, 14, 15, 40, 46, 48, 49, 54, 56], dtype=int64),\n",
       "  array([26, 36, 40, 46, 48, 49, 54, 56, 58, 62], dtype=int64),\n",
       "  array([], dtype=int64),\n",
       "  array([ 7, 14, 15, 40, 48, 56], dtype=int64),\n",
       "  array([ 7, 11, 15, 46], dtype=int64)],\n",
       " [array([], dtype=int64),\n",
       "  array([ 8, 10, 15, 26, 36, 40, 46, 48, 49, 54, 56, 58, 69, 70],\n",
       "        dtype=int64),\n",
       "  array([ 7, 14, 15, 40, 46, 48, 56, 58], dtype=int64),\n",
       "  array([ 7, 14, 15, 56], dtype=int64),\n",
       "  array([14, 15, 40, 48, 49, 56], dtype=int64)],\n",
       " [array([], dtype=int64),\n",
       "  array([ 7, 14, 15, 36, 40, 48, 49, 54, 56, 58], dtype=int64),\n",
       "  array([], dtype=int64),\n",
       "  array([ 7, 14, 15, 40, 48, 56], dtype=int64),\n",
       "  array([14, 15, 56], dtype=int64)],\n",
       " [array([], dtype=int64),\n",
       "  array([14, 15, 26, 36, 40, 46, 48, 49, 54, 56, 58, 70], dtype=int64),\n",
       "  array([15, 46], dtype=int64),\n",
       "  array([14, 15, 56], dtype=int64),\n",
       "  array([], dtype=int64)],\n",
       " [array([], dtype=int64),\n",
       "  array([ 7, 14, 15, 40, 46, 48, 56], dtype=int64),\n",
       "  array([15, 40, 46, 48, 51, 56], dtype=int64),\n",
       "  array([ 7, 13, 14, 15, 26, 33, 37, 40, 48, 49, 51, 54, 55, 56, 63, 70],\n",
       "        dtype=int64),\n",
       "  array([], dtype=int64)],\n",
       " [array([ 8,  9, 26, 36, 40, 46, 48, 49, 54, 56, 58, 62, 70], dtype=int64),\n",
       "  array([14, 15, 56], dtype=int64),\n",
       "  array([14, 15, 56], dtype=int64),\n",
       "  array([], dtype=int64),\n",
       "  array([], dtype=int64)],\n",
       " [array([ 7, 14, 15, 40, 46, 48, 49, 56], dtype=int64),\n",
       "  array([], dtype=int64),\n",
       "  array([], dtype=int64),\n",
       "  array([], dtype=int64),\n",
       "  array([], dtype=int64)],\n",
       " [array([], dtype=int64),\n",
       "  array([14, 15, 40, 48, 56], dtype=int64),\n",
       "  array([ 7, 15, 56], dtype=int64),\n",
       "  array([14, 15, 56], dtype=int64),\n",
       "  array([], dtype=int64)]]"
      ]
     },
     "execution_count": 6,
     "metadata": {},
     "output_type": "execute_result"
    }
   ],
   "source": [
    "selection"
   ]
  },
  {
   "cell_type": "code",
   "execution_count": null,
   "id": "ae0bdd62",
   "metadata": {},
   "outputs": [],
   "source": []
  },
  {
   "attachments": {},
   "cell_type": "markdown",
   "id": "3506a6f6",
   "metadata": {},
   "source": [
    "### GBM replacement"
   ]
  },
  {
   "cell_type": "code",
   "execution_count": null,
   "id": "e72fb1ad",
   "metadata": {},
   "outputs": [],
   "source": [
    "# Used R package zCompositions\n",
    "x_gbm = pd.read_csv('./datasets/COMBO_data/complete_data/GeneraCountsGBM.csv')\n",
    "x_gbm = np.array(x_gbm.iloc[:, 1:])\n",
    "cv_lasso_regression(x_gbm, Y, savepath='bmi_final', label=None, inner_folds=5)"
   ]
  },
  {
   "cell_type": "code",
   "execution_count": 9,
   "id": "984aac79",
   "metadata": {},
   "outputs": [
    {
     "data": {
      "text/plain": [
       "(29.052951227592416, 0.44015695139933747)"
      ]
     },
     "execution_count": 9,
     "metadata": {},
     "output_type": "execute_result"
    }
   ],
   "source": [
    "# gbm result\n",
    "with open(\"./results/real_data/{}/cvlasso_inner{}_1se{}_gbm.pickle\".format(\"bmi_final\", 5, False), 'rb') as fi:\n",
    "    score, selection = pickle.load(fi)\n",
    "mse_through_repeat = np.mean(score, axis=1)\n",
    "mse_through_repeat.mean(), mse_through_repeat.std() / np.sqrt(10)"
   ]
  },
  {
   "cell_type": "code",
   "execution_count": 8,
   "id": "5ff8cdd6",
   "metadata": {},
   "outputs": [
    {
     "data": {
      "text/plain": [
       "[[array([15, 52], dtype=int64),\n",
       "  array([24, 48, 52, 53], dtype=int64),\n",
       "  array([15, 53], dtype=int64),\n",
       "  array([52, 53], dtype=int64),\n",
       "  array([24, 52, 53], dtype=int64)],\n",
       " [array([], dtype=int64),\n",
       "  array([52], dtype=int64),\n",
       "  array([24, 52], dtype=int64),\n",
       "  array([ 0, 15, 24, 31, 37, 52, 53], dtype=int64),\n",
       "  array([48, 53, 61], dtype=int64)],\n",
       " [array([24, 37, 48, 52, 53], dtype=int64),\n",
       "  array([53, 56], dtype=int64),\n",
       "  array([ 0, 15, 52, 53], dtype=int64),\n",
       "  array([], dtype=int64),\n",
       "  array([], dtype=int64)],\n",
       " [array([], dtype=int64),\n",
       "  array([15, 24, 52, 53], dtype=int64),\n",
       "  array([ 0, 24, 48, 52, 53], dtype=int64),\n",
       "  array([ 0, 15, 24, 52], dtype=int64),\n",
       "  array([], dtype=int64)],\n",
       " [array([52], dtype=int64),\n",
       "  array([15, 24, 31, 52, 53, 55, 61], dtype=int64),\n",
       "  array([], dtype=int64),\n",
       "  array([53], dtype=int64),\n",
       "  array([52], dtype=int64)],\n",
       " [array([], dtype=int64),\n",
       "  array([24, 48, 53, 56], dtype=int64),\n",
       "  array([ 0, 53], dtype=int64),\n",
       "  array([48, 52, 53], dtype=int64),\n",
       "  array([15, 24, 52], dtype=int64)],\n",
       " [array([15, 24, 48, 49, 52, 53, 55], dtype=int64),\n",
       "  array([15, 52, 53, 63], dtype=int64),\n",
       "  array([52], dtype=int64),\n",
       "  array([15, 24, 37, 48, 49, 53], dtype=int64),\n",
       "  array([ 0, 53], dtype=int64)],\n",
       " [array([15, 24, 52, 53], dtype=int64),\n",
       "  array([ 0, 24, 48, 52, 53], dtype=int64),\n",
       "  array([15, 53, 56], dtype=int64),\n",
       "  array([24, 52, 53], dtype=int64),\n",
       "  array([], dtype=int64)],\n",
       " [array([15, 24, 52, 53], dtype=int64),\n",
       "  array([ 0, 52, 53], dtype=int64),\n",
       "  array([53], dtype=int64),\n",
       "  array([24, 48, 53], dtype=int64),\n",
       "  array([], dtype=int64)],\n",
       " [array([53], dtype=int64),\n",
       "  array([24, 31, 52, 53, 56], dtype=int64),\n",
       "  array([15, 56], dtype=int64),\n",
       "  array([15, 24, 37, 48, 52, 53], dtype=int64),\n",
       "  array([], dtype=int64)]]"
      ]
     },
     "execution_count": 8,
     "metadata": {},
     "output_type": "execute_result"
    }
   ],
   "source": [
    "selection"
   ]
  },
  {
   "cell_type": "code",
   "execution_count": null,
   "id": "088d798a",
   "metadata": {},
   "outputs": [],
   "source": []
  }
 ],
 "metadata": {
  "kernelspec": {
   "display_name": "Python 3 (ipykernel)",
   "language": "python",
   "name": "python3"
  },
  "language_info": {
   "codemirror_mode": {
    "name": "ipython",
    "version": 3
   },
   "file_extension": ".py",
   "mimetype": "text/x-python",
   "name": "python",
   "nbconvert_exporter": "python",
   "pygments_lexer": "ipython3",
   "version": "3.8.12"
  }
 },
 "nbformat": 4,
 "nbformat_minor": 5
}
